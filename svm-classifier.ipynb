{
 "cells": [
  {
   "cell_type": "code",
   "execution_count": 127,
   "metadata": {},
   "outputs": [],
   "source": [
    "import numpy as np\n",
    "import pandas as pd\n",
    "\n",
    "from sklearn import datasets\n",
    "\n",
    "import matplotlib.pyplot as plt\n",
    "%matplotlib inline"
   ]
  },
  {
   "cell_type": "code",
   "execution_count": 128,
   "metadata": {},
   "outputs": [
    {
     "name": "stdout",
     "output_type": "stream",
     "text": [
      "Features:      ['sepal length (cm)', 'sepal width (cm)', 'petal length (cm)', 'petal width (cm)']\n",
      "Target names:  ['setosa' 'versicolor' 'virginica']\n",
      "Targets:       [0 0 0 0 0 0 0 0 0 0 0 0 0 0 0 0 0 0 0 0 0 0 0 0 0 0 0 0 0 0 0 0 0 0 0 0 0\n",
      " 0 0 0 0 0 0 0 0 0 0 0 0 0 1 1 1 1 1 1 1 1 1 1 1 1 1 1 1 1 1 1 1 1 1 1 1 1\n",
      " 1 1 1 1 1 1 1 1 1 1 1 1 1 1 1 1 1 1 1 1 1 1 1 1 1 1 2 2 2 2 2 2 2 2 2 2 2\n",
      " 2 2 2 2 2 2 2 2 2 2 2 2 2 2 2 2 2 2 2 2 2 2 2 2 2 2 2 2 2 2 2 2 2 2 2 2 2\n",
      " 2 2]\n"
     ]
    }
   ],
   "source": [
    "iris = datasets.load_iris()\n",
    "print('Features:     ', iris.feature_names)    # .features shows the name columns\n",
    "print('Target names: ', iris.target_names)     # .target_names show the labels\n",
    "print('Targets:      ', iris.target)           # .target is a vector of integers (0,1,2,...) associated with target_names"
   ]
  },
  {
   "cell_type": "code",
   "execution_count": 129,
   "metadata": {},
   "outputs": [
    {
     "data": {
      "text/html": [
       "<div>\n",
       "<style scoped>\n",
       "    .dataframe tbody tr th:only-of-type {\n",
       "        vertical-align: middle;\n",
       "    }\n",
       "\n",
       "    .dataframe tbody tr th {\n",
       "        vertical-align: top;\n",
       "    }\n",
       "\n",
       "    .dataframe thead th {\n",
       "        text-align: right;\n",
       "    }\n",
       "</style>\n",
       "<table border=\"1\" class=\"dataframe\">\n",
       "  <thead>\n",
       "    <tr style=\"text-align: right;\">\n",
       "      <th></th>\n",
       "      <th>sepal length (cm)</th>\n",
       "      <th>sepal width (cm)</th>\n",
       "      <th>petal length (cm)</th>\n",
       "      <th>petal width (cm)</th>\n",
       "    </tr>\n",
       "  </thead>\n",
       "  <tbody>\n",
       "    <tr>\n",
       "      <th>0</th>\n",
       "      <td>5.1</td>\n",
       "      <td>3.5</td>\n",
       "      <td>1.4</td>\n",
       "      <td>0.2</td>\n",
       "    </tr>\n",
       "    <tr>\n",
       "      <th>1</th>\n",
       "      <td>4.9</td>\n",
       "      <td>3.0</td>\n",
       "      <td>1.4</td>\n",
       "      <td>0.2</td>\n",
       "    </tr>\n",
       "    <tr>\n",
       "      <th>2</th>\n",
       "      <td>4.7</td>\n",
       "      <td>3.2</td>\n",
       "      <td>1.3</td>\n",
       "      <td>0.2</td>\n",
       "    </tr>\n",
       "    <tr>\n",
       "      <th>3</th>\n",
       "      <td>4.6</td>\n",
       "      <td>3.1</td>\n",
       "      <td>1.5</td>\n",
       "      <td>0.2</td>\n",
       "    </tr>\n",
       "    <tr>\n",
       "      <th>4</th>\n",
       "      <td>5.0</td>\n",
       "      <td>3.6</td>\n",
       "      <td>1.4</td>\n",
       "      <td>0.2</td>\n",
       "    </tr>\n",
       "    <tr>\n",
       "      <th>5</th>\n",
       "      <td>5.4</td>\n",
       "      <td>3.9</td>\n",
       "      <td>1.7</td>\n",
       "      <td>0.4</td>\n",
       "    </tr>\n",
       "    <tr>\n",
       "      <th>6</th>\n",
       "      <td>4.6</td>\n",
       "      <td>3.4</td>\n",
       "      <td>1.4</td>\n",
       "      <td>0.3</td>\n",
       "    </tr>\n",
       "    <tr>\n",
       "      <th>7</th>\n",
       "      <td>5.0</td>\n",
       "      <td>3.4</td>\n",
       "      <td>1.5</td>\n",
       "      <td>0.2</td>\n",
       "    </tr>\n",
       "    <tr>\n",
       "      <th>8</th>\n",
       "      <td>4.4</td>\n",
       "      <td>2.9</td>\n",
       "      <td>1.4</td>\n",
       "      <td>0.2</td>\n",
       "    </tr>\n",
       "    <tr>\n",
       "      <th>9</th>\n",
       "      <td>4.9</td>\n",
       "      <td>3.1</td>\n",
       "      <td>1.5</td>\n",
       "      <td>0.1</td>\n",
       "    </tr>\n",
       "  </tbody>\n",
       "</table>\n",
       "</div>"
      ],
      "text/plain": [
       "   sepal length (cm)  sepal width (cm)  petal length (cm)  petal width (cm)\n",
       "0                5.1               3.5                1.4               0.2\n",
       "1                4.9               3.0                1.4               0.2\n",
       "2                4.7               3.2                1.3               0.2\n",
       "3                4.6               3.1                1.5               0.2\n",
       "4                5.0               3.6                1.4               0.2\n",
       "5                5.4               3.9                1.7               0.4\n",
       "6                4.6               3.4                1.4               0.3\n",
       "7                5.0               3.4                1.5               0.2\n",
       "8                4.4               2.9                1.4               0.2\n",
       "9                4.9               3.1                1.5               0.1"
      ]
     },
     "execution_count": 129,
     "metadata": {},
     "output_type": "execute_result"
    }
   ],
   "source": [
    "# create dataframe\n",
    "irisdf = pd.DataFrame(iris.data, columns=iris.feature_names)\n",
    "irisdf.head(10)"
   ]
  },
  {
   "cell_type": "code",
   "execution_count": 248,
   "metadata": {},
   "outputs": [],
   "source": [
    "from sklearn.model_selection import train_test_split\n",
    "from sklearn.preprocessing import StandardScaler\n",
    "\n",
    "# Get dataset with sepal attributes\n",
    "Xsepal, ysepal = irisdf[['sepal length (cm)','sepal width (cm)']], iris.target\n",
    "\n",
    "# Get dataset with petal attributes\n",
    "Xpetal, ypetal = irisdf[['petal length (cm)','petal width (cm)']], iris.target\n",
    "\n",
    "# Split the dataset into a training and a testing set\n",
    "# Test set will be the 20% taken randomly\n",
    "Xtrainsepal, Xtestsepal, ytrainsepal, ytestsepal = train_test_split(Xsepal, ysepal, test_size=0.2, random_state=33)\n",
    "Xtrainpetal, Xtestpetal, ytrainpetal, ytestpetal = train_test_split(Xpetal, ypetal, test_size=0.2, random_state=33)\n",
    "#print(Xtrain.shape, ytrain.shape)\n",
    "\n",
    "# Standardize the features (feature scaling) \n",
    "# For each feature, calculate the average, subtract the mean value from the feature value, \n",
    "# and divide the result by their standard deviation. After scaling, each feature will have \n",
    "# a zero average, with a standard deviation of one.\n",
    "#scaler = StandardScaler()  \n",
    "#Xtrainsepal = scaler.fit_transform(Xtrainsepal)\n",
    "#Xtrainpetal = scaler.fit_transform(Xtrainpetal)\n",
    "\n",
    "scaler = preprocessing.StandardScaler().fit(Xtrainsepal)\n",
    "Xtrainsepal = scaler.transform(Xtrainsepal)\n",
    "Xtestsepal  = scaler.transform(Xtestsepal)\n",
    "\n",
    "scaler = preprocessing.StandardScaler().fit(Xtrainpetal)\n",
    "Xtrainpetal = scaler.transform(Xtrainpetal)\n",
    "Xtestpetal  = scaler.transform(Xtestpetal)\n",
    "\n"
   ]
  },
  {
   "cell_type": "code",
   "execution_count": 131,
   "metadata": {},
   "outputs": [
    {
     "data": {
      "image/png": "[encoded data removed]",
      "text/plain": [
       "<Figure size 1152x360 with 2 Axes>"
      ]
     },
     "metadata": {
      "needs_background": "light"
     },
     "output_type": "display_data"
    }
   ],
   "source": [
    "import matplotlib.pyplot as plt\n",
    "\n",
    "colors  = ['green', 'blue', 'red']\n",
    "markers = ['+','.','x']\n",
    "\n",
    "fig = plt.figure(figsize=(16,5))\n",
    "ax1 = fig.add_subplot(121)\n",
    "ax2 = fig.add_subplot(122)\n",
    "\n",
    "def plot_data(ax,data,target,colors,markers,xlabel,ylabel,title):\n",
    "    for i in range(0,3):\n",
    "        xs = data[:, 0][target == i]\n",
    "        ys = data[:, 1][target == i]\n",
    "        ax.scatter(xs, ys, c=colors[i],marker=markers[i])\n",
    "        ax.legend(iris.target_names)\n",
    "        ax.set_xlabel(xlabel)\n",
    "        ax.set_ylabel(ylabel)\n",
    "        ax.set_title(title)\n",
    "    #endfor\n",
    "#endfunction\n",
    "\n",
    "plot_data(ax1,Xtrainsepal,ytrainsepal,colors,markers,'Sepal length','Sepal width','Train data')\n",
    "plot_data(ax2,Xtrainpetal,ytrainpetal,colors,markers,'Petal length','Petal width','Train data')"
   ]
  },
  {
   "cell_type": "code",
   "execution_count": 134,
   "metadata": {},
   "outputs": [
    {
     "name": "stdout",
     "output_type": "stream",
     "text": [
      "[-1.36426346 -0.51170395  0.65216902]\n",
      "[[-2.36453776  1.54198189]\n",
      " [-1.69175214  0.92499315]\n",
      " [-1.25285724 -0.34293477]]\n",
      "[-1.52688112 -0.2432579   2.9126248 ]\n",
      "[[-1.36481844 -1.15445442]\n",
      " [-0.67830752 -0.60807513]\n",
      " [-1.74127095 -2.41298495]]\n"
     ]
    }
   ],
   "source": [
    "from sklearn.svm import SVC\n",
    "\n",
    "clf_sepal = SVC(kernel='linear', decision_function_shape='ovo', gamma='auto')\n",
    "clf_sepal.fit(Xtrainsepal, ytrainsepal)\n",
    "\n",
    "print(clf_sepal.intercept_)\n",
    "print(clf_sepal.coef_)\n",
    "\n",
    "clf_petal = SVC(kernel='linear', decision_function_shape='ovo', gamma='auto')\n",
    "clf_petal.fit(Xtrainpetal, ytrainpetal)\n",
    "\n",
    "print(clf_petal.intercept_)\n",
    "print(clf_petal.coef_)"
   ]
  },
  {
   "cell_type": "code",
   "execution_count": 135,
   "metadata": {},
   "outputs": [
    {
     "data": {
      "image/png": "[encoded data removed]",
      "text/plain": [
       "<Figure size 1152x360 with 3 Axes>"
      ]
     },
     "metadata": {
      "needs_background": "light"
     },
     "output_type": "display_data"
    },
    {
     "data": {
      "image/png": "[encoded data removed]",
      "text/plain": [
       "<Figure size 1152x360 with 3 Axes>"
      ]
     },
     "metadata": {
      "needs_background": "light"
     },
     "output_type": "display_data"
    }
   ],
   "source": [
    "def plot_hyperplane(ax, clf, data, svmline):\n",
    "    eps = 0.2\n",
    "    # get the separating hyperplane\n",
    "    w = clf.coef_[svmline]\n",
    "    a = -w[0] / w[1]\n",
    "    xx = np.linspace(data[:,0].min()-eps , data[:,0].max()+eps) \n",
    "    yy = a * xx - (clf.intercept_[svmline]) / w[1]\n",
    "    ax.plot(xx, yy,'-k') \n",
    "    ax.set_xlim( [data[:,0].min()-eps, data[:,0].max()+eps] )\n",
    "    ax.set_ylim( [data[:,1].min()-eps, data[:,0].max()+eps] )\n",
    "    plt.show\n",
    "#endfunction\n",
    "\n",
    "# plot all data together according to the type of flower \n",
    "fig    = plt.figure(figsize=(16,5))\n",
    "titles = ['Setosa vs rest', 'Versicolor vs rest', 'Virginica vs rest']\n",
    "axis   = [fig.add_subplot(131), fig.add_subplot(132), fig.add_subplot(133)]\n",
    "for i in range(0,3):\n",
    "    plot_data(axis[i],Xtrainsepal,ytrainsepal,colors,markers,'Sepal length','Sepal width',titles[i])\n",
    "    plot_hyperplane(axis[i],clf_sepal,Xtrainsepal,i)\n",
    "#endfor\n",
    "\n",
    "\n",
    "\n",
    "# plot all data together according to the type of flower \n",
    "fig    = plt.figure(figsize=(16,5))\n",
    "titles = ['Setosa vs rest', 'Versicolor vs rest', 'Virginica vs rest']\n",
    "axis   = [fig.add_subplot(131), fig.add_subplot(132), fig.add_subplot(133)]\n",
    "for i in range(0,3):\n",
    "    plot_data(axis[i],Xtrainpetal,ytrainpetal,colors,markers,'Petal length','Petal width',titles[i])\n",
    "    plot_hyperplane(axis[i],clf_petal,Xtrainpetal,i)\n",
    "#endfor"
   ]
  },
  {
   "cell_type": "code",
   "execution_count": 125,
   "metadata": {},
   "outputs": [
    {
     "data": {
      "text/plain": [
       "array([1])"
      ]
     },
     "execution_count": 125,
     "metadata": {},
     "output_type": "execute_result"
    }
   ],
   "source": [
    "clf_sepal.predict(scaler.fit_transform([[4.7, 2.1]]))"
   ]
  },
  {
   "cell_type": "code",
   "execution_count": null,
   "metadata": {},
   "outputs": [],
   "source": []
  },
  {
   "cell_type": "code",
   "execution_count": null,
   "metadata": {},
   "outputs": [],
   "source": []
  },
  {
   "cell_type": "code",
   "execution_count": null,
   "metadata": {},
   "outputs": [],
   "source": []
  },
  {
   "cell_type": "code",
   "execution_count": 226,
   "metadata": {},
   "outputs": [],
   "source": [
    "# test\n",
    "iris = datasets.load_iris()\n",
    "irisdf = pd.DataFrame(iris.data, columns=iris.feature_names)\n",
    "irisdf['target'] = iris.target\n",
    "\n",
    "# using 2 classes 0,1\n",
    "\n",
    "# setosa, virginica = 0, versicolor = 1\n",
    "irisdf.loc[irisdf.target != 1, 'target'] = 0\n",
    "\n",
    "#irisdf['flower_name'] = irisdf.target.apply(lambda x: iris.target_names[x])\n",
    "#setosa = irisdf[0:50]\n",
    "#versic = irisdf[50:100]\n",
    "#virgin = irisdf[100:]\n",
    "\n",
    "# merge setosa and virgin\n",
    "#setosa.target = [0]*len(setosa.index)\n",
    "#virgin.target = [0]*len(virgin.index) \n",
    "#irisdf = setosa.append(versic).append(virgin)\n",
    "#irisdf[48:103]"
   ]
  },
  {
   "cell_type": "code",
   "execution_count": 252,
   "metadata": {},
   "outputs": [
    {
     "data": {
      "image/png": "[encoded data removed]",
      "text/plain": [
       "<Figure size 1152x360 with 1 Axes>"
      ]
     },
     "metadata": {
      "needs_background": "light"
     },
     "output_type": "display_data"
    }
   ],
   "source": [
    "X = irisdf[['sepal length (cm)', 'sepal width (cm)']]\n",
    "y = np.asarray(irisdf.target)  #iris.target\n",
    "Xtrain, Xtest, ytrain, ytest = train_test_split(X, y, test_size=0.2) #, random_state=33)\n",
    "\n",
    "def plot_data_2classes(ax,data,target,col1,col2,colors,markers,xlabel,ylabel,title):\n",
    "    for i in range(0,3):\n",
    "        xs = data[col1].iloc[target == i]\n",
    "        ys = data[col2].iloc[target == i]\n",
    "        ax.scatter(xs, ys, c=colors[i],marker=markers[i])\n",
    "        #ax.legend(iris.target_names)\n",
    "        ax.set_xlabel(xlabel)\n",
    "        ax.set_ylabel(ylabel)\n",
    "        ax.set_title(title)\n",
    "    #endfor\n",
    "#endfunction\n",
    "\n",
    "fig    = plt.figure(figsize=(16,5))\n",
    "\n",
    "# plot all data together according to the type of flower fig    = plt.figure(figsize=(16,5))\n",
    "titles = ['Versicolor vs rest'] #, 'Virginica vs rest']\n",
    "axis   = [fig.add_subplot(131)] #, fig.add_subplot(132), fig.add_subplot(133)]\n",
    "#cols   = [, 'sepal width (cm)']\n",
    "for i in range(0,1):\n",
    "    plot_data_2classes(axis[i],Xtrain,ytrain,'sepal length (cm)','sepal width (cm)',colors,markers,'Sepal length','Sepal width',titles[i])\n",
    "#endfunction\n"
   ]
  },
  {
   "cell_type": "code",
   "execution_count": 253,
   "metadata": {},
   "outputs": [
    {
     "name": "stdout",
     "output_type": "stream",
     "text": [
      "[[ 2.44868982e-06 -2.22254404e+00]]\n"
     ]
    }
   ],
   "source": [
    "model=SVC(gamma='auto',kernel='linear')\n",
    "model.fit(Xtrain, ytrain)\n",
    "print(model.coef_)"
   ]
  },
  {
   "cell_type": "code",
   "execution_count": 255,
   "metadata": {},
   "outputs": [
    {
     "data": {
      "image/png": "[encoded data removed]",
      "text/plain": [
       "<Figure size 1152x360 with 1 Axes>"
      ]
     },
     "metadata": {
      "needs_background": "light"
     },
     "output_type": "display_data"
    }
   ],
   "source": [
    "# plot all data together according to the type of flower \n",
    "def plot_hyperplane(ax, clf, data, svmline):\n",
    "    eps = 0.2\n",
    "    # get the separating hyperplane\n",
    "    w = clf.coef_[svmline]\n",
    "    a = -w[0] / w[1]\n",
    "    xx = np.linspace(data[:,0].min()-eps , data[:,0].max()+eps) \n",
    "    yy = a * xx - (clf.intercept_[svmline]) / w[1]\n",
    "    ax.plot(xx, yy,'-k') \n",
    "    ax.set_xlim( [data[:,0].min()-eps, data[:,0].max()+eps] )\n",
    "    ax.set_ylim( [data[:,1].min()-eps, data[:,0].max()+eps] )\n",
    "    plt.show\n",
    "#endfunction\n",
    "\n",
    "fig    = plt.figure(figsize=(16,5))\n",
    "titles = ['versicolor vs rest'] #['Setosa vs rest', 'Versicolor vs rest', 'Virginica vs rest']\n",
    "axis   = [fig.add_subplot(131)] #, fig.add_subplot(132), fig.add_subplot(133)]\n",
    "for i in range(0,1):\n",
    "    plot_data_2classes(axis[i],Xtrain,ytrain,'sepal length (cm)','sepal width (cm)',colors,markers,'Sepal length','Sepal width',titles[i])\n",
    "#    plot_data_2clase(axis[i],Xtrainsepal,ytrainsepal,colors,markers,'Sepal length','Sepal width',titles[i])\n",
    "    #Xtraindrop = Xtrain.drop(['target'], axis='columns')\n",
    "    Xtrain = np.asarray(Xtrain)\n",
    "    plot_hyperplane(axis[i],model,Xtrain,i)\n",
    "#endfor"
   ]
  },
  {
   "cell_type": "code",
   "execution_count": 243,
   "metadata": {},
   "outputs": [
    {
     "data": {
      "text/plain": [
       "array([[5. , 3. , 1.6, 0.2],\n",
       "       [7.3, 2.9, 6.3, 1.8],\n",
       "       [6.5, 3. , 5.2, 2. ],\n",
       "       [7.2, 3.2, 6. , 1.8],\n",
       "       [6.2, 2.2, 4.5, 1.5],\n",
       "       [4.8, 3. , 1.4, 0.1],\n",
       "       [6.9, 3.1, 5.4, 2.1],\n",
       "       [5.8, 2.7, 4.1, 1. ],\n",
       "       [6.9, 3.2, 5.7, 2.3],\n",
       "       [5.4, 3. , 4.5, 1.5],\n",
       "       [5.2, 2.7, 3.9, 1.4],\n",
       "       [5. , 3.5, 1.3, 0.3],\n",
       "       [6.9, 3.1, 5.1, 2.3],\n",
       "       [5.7, 2.5, 5. , 2. ],\n",
       "       [5.9, 3. , 5.1, 1.8],\n",
       "       [5.8, 2.6, 4. , 1.2],\n",
       "       [6.4, 2.7, 5.3, 1.9],\n",
       "       [5. , 3.3, 1.4, 0.2],\n",
       "       [5.7, 2.8, 4.5, 1.3],\n",
       "       [5.5, 4.2, 1.4, 0.2],\n",
       "       [7.4, 2.8, 6.1, 1.9],\n",
       "       [6.5, 3. , 5.5, 1.8],\n",
       "       [6.5, 2.8, 4.6, 1.5],\n",
       "       [5. , 3.4, 1.6, 0.4],\n",
       "       [4.8, 3.4, 1.6, 0.2],\n",
       "       [6.2, 3.4, 5.4, 2.3],\n",
       "       [5.6, 2.7, 4.2, 1.3],\n",
       "       [6.3, 2.5, 5. , 1.9],\n",
       "       [6. , 2.2, 4. , 1. ],\n",
       "       [6.3, 2.5, 4.9, 1.5],\n",
       "       [5. , 3.2, 1.2, 0.2],\n",
       "       [6.7, 3. , 5. , 1.7],\n",
       "       [6.9, 3.1, 4.9, 1.5],\n",
       "       [4.4, 2.9, 1.4, 0.2],\n",
       "       [6.7, 3.1, 5.6, 2.4],\n",
       "       [6.1, 2.8, 4.7, 1.2],\n",
       "       [6.3, 2.7, 4.9, 1.8],\n",
       "       [5.5, 2.4, 3.8, 1.1],\n",
       "       [5.7, 3.8, 1.7, 0.3],\n",
       "       [5.4, 3.9, 1.7, 0.4],\n",
       "       [5. , 3.4, 1.5, 0.2],\n",
       "       [5. , 3.6, 1.4, 0.2],\n",
       "       [6.4, 2.8, 5.6, 2.1],\n",
       "       [6.1, 2.9, 4.7, 1.4],\n",
       "       [7.2, 3.6, 6.1, 2.5],\n",
       "       [7.1, 3. , 5.9, 2.1],\n",
       "       [5.4, 3.7, 1.5, 0.2],\n",
       "       [4.8, 3.4, 1.9, 0.2],\n",
       "       [5.3, 3.7, 1.5, 0.2],\n",
       "       [5.1, 3.3, 1.7, 0.5],\n",
       "       [6.7, 3. , 5.2, 2.3],\n",
       "       [4.6, 3.1, 1.5, 0.2],\n",
       "       [7.7, 2.6, 6.9, 2.3],\n",
       "       [5.7, 2.6, 3.5, 1. ],\n",
       "       [5.1, 3.5, 1.4, 0.3],\n",
       "       [5.8, 4. , 1.2, 0.2],\n",
       "       [5.1, 3.7, 1.5, 0.4],\n",
       "       [6.3, 3.3, 6. , 2.5],\n",
       "       [7.2, 3. , 5.8, 1.6],\n",
       "       [5.9, 3. , 4.2, 1.5],\n",
       "       [5.8, 2.7, 3.9, 1.2],\n",
       "       [5.1, 2.5, 3. , 1.1],\n",
       "       [6. , 3.4, 4.5, 1.6],\n",
       "       [6.4, 3.2, 5.3, 2.3],\n",
       "       [7.7, 3. , 6.1, 2.3],\n",
       "       [6.8, 3.2, 5.9, 2.3],\n",
       "       [4.8, 3. , 1.4, 0.3],\n",
       "       [4.8, 3.1, 1.6, 0.2],\n",
       "       [4.9, 3. , 1.4, 0.2],\n",
       "       [5.2, 3.4, 1.4, 0.2],\n",
       "       [6.7, 3.1, 4.4, 1.4],\n",
       "       [5.7, 2.8, 4.1, 1.3],\n",
       "       [5.6, 2.9, 3.6, 1.3],\n",
       "       [5.4, 3.9, 1.3, 0.4],\n",
       "       [5. , 2. , 3.5, 1. ],\n",
       "       [6.7, 3.3, 5.7, 2.1],\n",
       "       [7. , 3.2, 4.7, 1.4],\n",
       "       [5.1, 3.8, 1.9, 0.4],\n",
       "       [5.1, 3.4, 1.5, 0.2],\n",
       "       [4.3, 3. , 1.1, 0.1],\n",
       "       [5.6, 2.5, 3.9, 1.1],\n",
       "       [6.5, 3. , 5.8, 2.2],\n",
       "       [7.6, 3. , 6.6, 2.1],\n",
       "       [6.3, 2.9, 5.6, 1.8],\n",
       "       [7.9, 3.8, 6.4, 2. ],\n",
       "       [5.8, 2.8, 5.1, 2.4],\n",
       "       [6.8, 2.8, 4.8, 1.4],\n",
       "       [4.6, 3.4, 1.4, 0.3],\n",
       "       [4.7, 3.2, 1.6, 0.2],\n",
       "       [4.7, 3.2, 1.3, 0.2],\n",
       "       [5.7, 4.4, 1.5, 0.4],\n",
       "       [4.9, 2.4, 3.3, 1. ],\n",
       "       [4.4, 3. , 1.3, 0.2],\n",
       "       [4.9, 2.5, 4.5, 1.7],\n",
       "       [7.7, 2.8, 6.7, 2. ],\n",
       "       [4.9, 3.1, 1.5, 0.1],\n",
       "       [4.6, 3.2, 1.4, 0.2],\n",
       "       [5.4, 3.4, 1.7, 0.2],\n",
       "       [6.1, 2.8, 4. , 1.3],\n",
       "       [6.4, 3.1, 5.5, 1.8],\n",
       "       [6.4, 2.8, 5.6, 2.2],\n",
       "       [5.5, 2.4, 3.7, 1. ],\n",
       "       [4.9, 3.6, 1.4, 0.1],\n",
       "       [6.4, 3.2, 4.5, 1.5],\n",
       "       [6.1, 3. , 4.9, 1.8],\n",
       "       [5.5, 2.5, 4. , 1.3],\n",
       "       [6.3, 2.3, 4.4, 1.3],\n",
       "       [6.3, 3.3, 4.7, 1.6],\n",
       "       [4.4, 3.2, 1.3, 0.2],\n",
       "       [4.5, 2.3, 1.3, 0.3],\n",
       "       [6.3, 3.4, 5.6, 2.4],\n",
       "       [6.4, 2.9, 4.3, 1.3],\n",
       "       [7.7, 3.8, 6.7, 2.2],\n",
       "       [6.1, 3. , 4.6, 1.4],\n",
       "       [5.5, 2.6, 4.4, 1.2],\n",
       "       [5.7, 3. , 4.2, 1.2],\n",
       "       [5.5, 2.3, 4. , 1.3],\n",
       "       [5. , 2.3, 3.3, 1. ],\n",
       "       [6.8, 3. , 5.5, 2.1],\n",
       "       [4.6, 3.6, 1. , 0.2]])"
      ]
     },
     "execution_count": 243,
     "metadata": {},
     "output_type": "execute_result"
    }
   ],
   "source": [
    "Xtraindrop = Xtrain.drop(['target'], axis='columns')\n",
    "np.asarray(Xtraindrop) #.as_array"
   ]
  },
  {
   "cell_type": "code",
   "execution_count": null,
   "metadata": {},
   "outputs": [],
   "source": []
  },
  {
   "cell_type": "code",
   "execution_count": null,
   "metadata": {},
   "outputs": [],
   "source": []
  },
  {
   "cell_type": "code",
   "execution_count": null,
   "metadata": {},
   "outputs": [],
   "source": []
  },
  {
   "cell_type": "code",
   "execution_count": null,
   "metadata": {},
   "outputs": [],
   "source": []
  },
  {
   "cell_type": "code",
   "execution_count": null,
   "metadata": {},
   "outputs": [],
   "source": []
  },
  {
   "cell_type": "code",
   "execution_count": null,
   "metadata": {},
   "outputs": [],
   "source": []
  },
  {
   "cell_type": "code",
   "execution_count": null,
   "metadata": {},
   "outputs": [],
   "source": []
  },
  {
   "cell_type": "code",
   "execution_count": null,
   "metadata": {},
   "outputs": [],
   "source": []
  },
  {
   "cell_type": "code",
   "execution_count": 112,
   "metadata": {},
   "outputs": [],
   "source": [
    "# now using all information from the iris data set \n",
    "# Separating the independent variables from dependent variables\n",
    "\n",
    "# Get dataset with petal attributes\n",
    "X = irisdf\n",
    "y = iris.target\n",
    "\n",
    "# Split the dataset into a training and a testing set\n",
    "# Test set will be the 20% taken randomly\n",
    "Xtrain, Xtest, ytrain, ytest = train_test_split(X, y, test_size=0.2) #, random_state=33)\n",
    "#print(Xtrain, ytrain)\n",
    "\n",
    "# Standardize the features (feature scaling) \n",
    "# For each feature, calculate the average, subtract the mean value from the feature value, \n",
    "# and divide the result by their standard deviation. After scaling, each feature will have \n",
    "# a zero average, with a standard deviation of one.\n",
    "#scaler = StandardScaler()  \n",
    "#Xtrain = scaler.fit_transform(Xtrain)\n",
    "\n",
    "#print(Xtrain)"
   ]
  },
  {
   "cell_type": "code",
   "execution_count": 113,
   "metadata": {},
   "outputs": [
    {
     "data": {
      "text/plain": [
       "SVC(C=1.0, cache_size=200, class_weight=None, coef0=0.0,\n",
       "  decision_function_shape='ovr', degree=3, gamma='auto_deprecated',\n",
       "  kernel='linear', max_iter=-1, probability=False, random_state=None,\n",
       "  shrinking=True, tol=0.001, verbose=False)"
      ]
     },
     "execution_count": 113,
     "metadata": {},
     "output_type": "execute_result"
    }
   ],
   "source": [
    "clf = SVC(kernel='linear')# , decision_function_shape='ovr', gamma='auto')\n",
    "clf.fit(Xtrain,ytrain)"
   ]
  },
  {
   "cell_type": "code",
   "execution_count": 114,
   "metadata": {},
   "outputs": [],
   "source": [
    "# Testing unsing the test set\n",
    "pred = clf.predict(Xtest)"
   ]
  },
  {
   "cell_type": "code",
   "execution_count": 115,
   "metadata": {},
   "outputs": [
    {
     "name": "stdout",
     "output_type": "stream",
     "text": [
      "[[12  0  0]\n",
      " [ 0  9  0]\n",
      " [ 0  0  9]]\n"
     ]
    }
   ],
   "source": [
    "from sklearn.metrics import classification_report, confusion_matrix\n",
    "print(confusion_matrix(ytest,pred))"
   ]
  },
  {
   "cell_type": "code",
   "execution_count": 116,
   "metadata": {},
   "outputs": [
    {
     "name": "stdout",
     "output_type": "stream",
     "text": [
      "              precision    recall  f1-score   support\n",
      "\n",
      "           0       1.00      1.00      1.00        12\n",
      "           1       1.00      1.00      1.00         9\n",
      "           2       1.00      1.00      1.00         9\n",
      "\n",
      "   micro avg       1.00      1.00      1.00        30\n",
      "   macro avg       1.00      1.00      1.00        30\n",
      "weighted avg       1.00      1.00      1.00        30\n",
      "\n"
     ]
    }
   ],
   "source": [
    "print(classification_report(ytest, pred))"
   ]
  },
  {
   "cell_type": "code",
   "execution_count": null,
   "metadata": {},
   "outputs": [],
   "source": []
  }
 ],
 "metadata": {
  "kernelspec": {
   "display_name": "Python 3",
   "language": "python",
   "name": "python3"
  },
  "language_info": {
   "codemirror_mode": {
    "name": "ipython",
    "version": 3
   },
   "file_extension": ".py",
   "mimetype": "text/x-python",
   "name": "python",
   "nbconvert_exporter": "python",
   "pygments_lexer": "ipython3",
   "version": "3.7.1"
  }
 },
 "nbformat": 4,
 "nbformat_minor": 2
}
